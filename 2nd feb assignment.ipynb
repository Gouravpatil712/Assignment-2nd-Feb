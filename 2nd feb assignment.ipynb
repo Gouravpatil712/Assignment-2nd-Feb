{
 "cells": [
  {
   "cell_type": "markdown",
   "id": "cf443cba-7425-41b2-942e-1c31d782e7c2",
   "metadata": {},
   "source": [
    "## Question 01 - Explain with an example each when to use a for loop and a while loop ?"
   ]
  },
  {
   "cell_type": "code",
   "execution_count": 3,
   "id": "9f3ceaab-8ed7-4bf7-b251-cfbbbf7befb6",
   "metadata": {},
   "outputs": [
    {
     "name": "stdout",
     "output_type": "stream",
     "text": [
      "G\n",
      "o\n",
      "u\n",
      "r\n",
      "a\n",
      "v\n"
     ]
    }
   ],
   "source": [
    "'''Answer :- A for loop is used when we want to iterate over a sequence (such as  list, tuple, or string) \n",
    "or other iterable object and execute a block of code for each element in the sequence.'''\n",
    "\n",
    "G = 'Gourav'\n",
    "\n",
    "for i in G :\n",
    "    print(i)"
   ]
  },
  {
   "cell_type": "code",
   "execution_count": 4,
   "id": "1883a209-8cf2-4b08-82cf-63b2b87d0df5",
   "metadata": {},
   "outputs": [
    {
     "name": "stdout",
     "output_type": "stream",
     "text": [
      "0\n",
      "1\n",
      "2\n",
      "3\n",
      "4\n",
      "5\n"
     ]
    }
   ],
   "source": [
    "'''A while loop is used when we want to repeatedly execute a block of code as long as a given condition is true.\n",
    "When the condition is False the loop will stop.It's important to ensure that the condition will eventually become false,\n",
    "otherwise the loop will run indefinitely and cause an infinite loop '''\n",
    "\n",
    "count = 0\n",
    "\n",
    "while count <=5 :\n",
    "    print (count)\n",
    "    count = count + 1"
   ]
  },
  {
   "cell_type": "markdown",
   "id": "a9a951a1-d187-4734-914a-2aa0d698333a",
   "metadata": {},
   "source": [
    "## Question 02 - Write the Python program to print the sum and product of the first 10 natural numbers using for and while loop ?"
   ]
  },
  {
   "cell_type": "code",
   "execution_count": 5,
   "id": "da8d8662-5cb9-4b33-a81c-d8b85d0c0a34",
   "metadata": {},
   "outputs": [
    {
     "name": "stdout",
     "output_type": "stream",
     "text": [
      "The sum of 10 natural numbers :  55\n",
      "The product of 10 natural numbers :  3628800\n"
     ]
    }
   ],
   "source": [
    "#  Answer :- sum and product of first 10 natural numbers with for loop\n",
    "\n",
    "sum = 0\n",
    "product = 1\n",
    "\n",
    "for i in range(1,11):\n",
    "    sum = sum + i\n",
    "    product = product*i\n",
    "    \n",
    "print('The sum of 10 natural numbers : ', sum)\n",
    "print('The product of 10 natural numbers : ', product)"
   ]
  },
  {
   "cell_type": "code",
   "execution_count": 6,
   "id": "c9e9aaea-fcaa-4524-82d7-33c85d0fd6bd",
   "metadata": {},
   "outputs": [
    {
     "name": "stdout",
     "output_type": "stream",
     "text": [
      "The sum of 10 natural numbers :  55\n",
      "The product of 10 natural numbers :  3628800\n"
     ]
    }
   ],
   "source": [
    "#  Answer :- sum and product of first 10 natural numbers with while loop\n",
    "\n",
    "sum = 0\n",
    "product = 1\n",
    "i = 1\n",
    "while i <=10 :\n",
    "    sum = sum + i\n",
    "    product = product * i\n",
    "    i = i + 1\n",
    "    \n",
    "print('The sum of 10 natural numbers : ', sum)\n",
    "print('The product of 10 natural numbers : ', product)\n"
   ]
  },
  {
   "cell_type": "markdown",
   "id": "4a5ea315-bd29-482e-a40c-4bb2fc22f019",
   "metadata": {},
   "source": [
    "## Question 03 - Create a Python program to compute the electricity bill for a household\n",
    "The per-unit charge in rupees are follows: For the first 100 units, the user will be charge Rs 4.5 per unit,\n",
    "for the next 100 units, the user will be charge Rs 6 per unit, and for the first 100 units, the user will be charge Rs 10 per unit, after 300 or above the user will be charge Rs 20 per unit.\n",
    "\n",
    "You are required to take a unit of electricity consumed in a month form the user as input\n",
    "\n",
    "Your program must pass this test case: when the unit of electricity consumed by the user in a month is 310, the total electricity should be 2250."
   ]
  },
  {
   "cell_type": "code",
   "execution_count": 8,
   "id": "4870e6eb-b5ea-47ca-9fd2-7f66d65257d9",
   "metadata": {},
   "outputs": [
    {
     "name": "stdin",
     "output_type": "stream",
     "text": [
      "Enter the numbers of units consumed :  310\n"
     ]
    },
    {
     "name": "stdout",
     "output_type": "stream",
     "text": [
      "The total electricity bill is: RS  2250.0\n"
     ]
    }
   ],
   "source": [
    "units = int(input('Enter the numbers of units consumed : '))\n",
    "Bill = 0\n",
    "\n",
    "if units <= 100 :\n",
    "    Bill = 100 * 4.5\n",
    "elif units <= 200 :\n",
    "    Bill = 100 * 4.5 + (units - 100) * 6\n",
    "elif units <= 300 :\n",
    "    Bill = 100 * 4.5 + 100 * 6 + (units - 200) * 10\n",
    "else :\n",
    "    Bill = 100 * 4.5 + 100 * 6 + 100 * 10 + (units - 300) * 20\n",
    "    \n",
    "    print('The total electricity bill is: RS ',Bill)"
   ]
  },
  {
   "cell_type": "markdown",
   "id": "4c86af53-86a2-4ea7-9f05-dce56eed9c75",
   "metadata": {},
   "source": [
    "## Question 04 - Create a list of numbers form 1 to 100. use for and while loop to calcualate the cube for each number and if the cube of that number is divisible by 4 or 5 then append that number in a list and print that list"
   ]
  },
  {
   "cell_type": "code",
   "execution_count": 9,
   "id": "3d8a6777-c7ac-406d-bd6c-88300c4feef7",
   "metadata": {},
   "outputs": [
    {
     "name": "stdout",
     "output_type": "stream",
     "text": [
      "The number divisible by 4 or 5 are :  [2, 4, 5, 6, 8, 10, 12, 14, 15, 16, 18, 20, 22, 24, 25, 26, 28, 30, 32, 34, 35, 36, 38, 40, 42, 44, 45, 46, 48, 50, 52, 54, 55, 56, 58, 60, 62, 64, 65, 66, 68, 70, 72, 74, 75, 76, 78, 80, 82, 84, 85, 86, 88, 90, 92, 94, 95, 96, 98, 100]\n"
     ]
    }
   ],
   "source": [
    "# Answer :- for loop \n",
    "    \n",
    "numbers = []\n",
    "for i in range(1, 101):\n",
    "        cube = i**3\n",
    "        if cube % 4 == 0 or cube % 5 == 0 :\n",
    "            numbers.append(i)\n",
    "print ('The number divisible by 4 or 5 are : ',numbers)"
   ]
  },
  {
   "cell_type": "code",
   "execution_count": 10,
   "id": "6f4caf98-a89a-4110-922a-2e02a5767dd2",
   "metadata": {},
   "outputs": [
    {
     "name": "stdout",
     "output_type": "stream",
     "text": [
      "The number divisible by 4 or 5 are :  [2, 4, 5, 6, 8, 10, 12, 14, 15, 16, 18, 20, 22, 24, 25, 26, 28, 30, 32, 34, 35, 36, 38, 40, 42, 44, 45, 46, 48, 50, 52, 54, 55, 56, 58, 60, 62, 64, 65, 66, 68, 70, 72, 74, 75, 76, 78, 80, 82, 84, 85, 86, 88, 90, 92, 94, 95, 96, 98, 100]\n"
     ]
    }
   ],
   "source": [
    "# while loop\n",
    "\n",
    "numbers = []\n",
    "i = 1\n",
    "while i <= 100 :\n",
    "        cube = i**3\n",
    "        if cube % 4 == 0 or cube % 5 == 0 :\n",
    "            numbers.append(i)\n",
    "        i = i + 1\n",
    "print ('The number divisible by 4 or 5 are : ',numbers)"
   ]
  },
  {
   "cell_type": "markdown",
   "id": "e2ad211b-b5f9-48a8-9827-78accda96b4e",
   "metadata": {},
   "source": [
    "## Qusetion 05 - Write a program to filter the count vowels in the below given string\n",
    " string = \"i want to become a data scientist\""
   ]
  },
  {
   "cell_type": "code",
   "execution_count": 11,
   "id": "542d35c8-97bb-47f0-8c7a-72067df50548",
   "metadata": {},
   "outputs": [
    {
     "name": "stdout",
     "output_type": "stream",
     "text": [
      "The Numbers of Vowels : 12\n"
     ]
    }
   ],
   "source": [
    "# Answer :- \n",
    "string = \"i want to become a data scientist\"\n",
    "vowels = 'aeiou'\n",
    "count = 0\n",
    "\n",
    "for i in string :\n",
    "    if i in vowels:\n",
    "        count = count + 1\n",
    "print('The Numbers of Vowels :', count)"
   ]
  },
  {
   "cell_type": "code",
   "execution_count": null,
   "id": "47a686da-e676-4615-b445-c4db966c0e89",
   "metadata": {},
   "outputs": [],
   "source": []
  }
 ],
 "metadata": {
  "kernelspec": {
   "display_name": "Python 3 (ipykernel)",
   "language": "python",
   "name": "python3"
  },
  "language_info": {
   "codemirror_mode": {
    "name": "ipython",
    "version": 3
   },
   "file_extension": ".py",
   "mimetype": "text/x-python",
   "name": "python",
   "nbconvert_exporter": "python",
   "pygments_lexer": "ipython3",
   "version": "3.10.8"
  }
 },
 "nbformat": 4,
 "nbformat_minor": 5
}
